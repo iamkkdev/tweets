{
 "cells": [
  {
   "cell_type": "code",
   "execution_count": 1,
   "id": "7ba572ef",
   "metadata": {},
   "outputs": [],
   "source": [
    "import numpy as np\n",
    "import matplotlib.pyplot as plt\n",
    "import pandas as pd\n",
    "\n",
    "#Visualization imports\n",
    "import seaborn as sns\n",
    "%matplotlib inline\n",
    "import plotly.express as px\n",
    "\n",
    "#NLP imports\n",
    "import spacy\n",
    "from nltk.tokenize import sent_tokenize, word_tokenize, RegexpTokenizer, TweetTokenizer\n",
    "from nltk.sentiment.vader import SentimentIntensityAnalyzer\n",
    "from nltk.corpus import stopwords\n",
    "from wordcloud import WordCloud, STOPWORDS, ImageColorGenerator\n",
    "from nltk.stem.porter import PorterStemmer\n",
    "from nltk.stem import WordNetLemmatizer\n",
    "from sklearn.metrics import classification_report, roc_curve, roc_auc_score, plot_confusion_matrix\n",
    "ps = PorterStemmer()\n",
    "import re\n",
    "import nltk\n",
    "import networkx as nx\n",
    "from gensim.models import word2vec\n",
    "\n",
    "#Scikit Learn imports\n",
    "from sklearn.feature_extraction.text import TfidfVectorizer\n",
    "from nltk.stem.porter import PorterStemmer\n",
    "from sklearn.naive_bayes import MultinomialNB\n",
    "from sklearn.model_selection import train_test_split\n",
    "from sklearn.feature_extraction.text import CountVectorizer\n",
    "from sklearn.metrics import confusion_matrix\n",
    "from sklearn.metrics import accuracy_score\n",
    "from sklearn.linear_model import LogisticRegression\n",
    "import warnings\n",
    "warnings.filterwarnings('ignore')"
   ]
  },
  {
   "cell_type": "code",
   "execution_count": 2,
   "id": "85fc5cb6",
   "metadata": {},
   "outputs": [],
   "source": [
    "#Reading Data\n",
    "df = pd.read_csv('../data/train.csv')\n",
    "df_test = pd.read_csv('../data/test.csv')"
   ]
  },
  {
   "cell_type": "code",
   "execution_count": 3,
   "id": "a3ca0191",
   "metadata": {},
   "outputs": [
    {
     "data": {
      "text/html": [
       "<div>\n",
       "<style scoped>\n",
       "    .dataframe tbody tr th:only-of-type {\n",
       "        vertical-align: middle;\n",
       "    }\n",
       "\n",
       "    .dataframe tbody tr th {\n",
       "        vertical-align: top;\n",
       "    }\n",
       "\n",
       "    .dataframe thead th {\n",
       "        text-align: right;\n",
       "    }\n",
       "</style>\n",
       "<table border=\"1\" class=\"dataframe\">\n",
       "  <thead>\n",
       "    <tr style=\"text-align: right;\">\n",
       "      <th></th>\n",
       "      <th>id</th>\n",
       "      <th>keyword</th>\n",
       "      <th>location</th>\n",
       "      <th>text</th>\n",
       "      <th>target</th>\n",
       "      <th>text_length</th>\n",
       "      <th>text_word_count</th>\n",
       "    </tr>\n",
       "  </thead>\n",
       "  <tbody>\n",
       "    <tr>\n",
       "      <th>0</th>\n",
       "      <td>1</td>\n",
       "      <td>NaN</td>\n",
       "      <td>NaN</td>\n",
       "      <td>Our Deeds are the Reason of this #earthquake M...</td>\n",
       "      <td>1</td>\n",
       "      <td>69</td>\n",
       "      <td>13</td>\n",
       "    </tr>\n",
       "    <tr>\n",
       "      <th>1</th>\n",
       "      <td>4</td>\n",
       "      <td>NaN</td>\n",
       "      <td>NaN</td>\n",
       "      <td>Forest fire near La Ronge Sask. Canada</td>\n",
       "      <td>1</td>\n",
       "      <td>38</td>\n",
       "      <td>7</td>\n",
       "    </tr>\n",
       "  </tbody>\n",
       "</table>\n",
       "</div>"
      ],
      "text/plain": [
       "   id keyword location                                               text  \\\n",
       "0   1     NaN      NaN  Our Deeds are the Reason of this #earthquake M...   \n",
       "1   4     NaN      NaN             Forest fire near La Ronge Sask. Canada   \n",
       "\n",
       "   target  text_length  text_word_count  \n",
       "0       1           69               13  \n",
       "1       1           38                7  "
      ]
     },
     "execution_count": 3,
     "metadata": {},
     "output_type": "execute_result"
    }
   ],
   "source": [
    "#Creating text length and text word count for analysis\n",
    "df['text_length'] = [len(i) for i in df['text']]\n",
    "df['text_word_count'] = [len(i) for i in df['text'].str.split()]\n",
    "df.head(2)"
   ]
  },
  {
   "cell_type": "code",
   "execution_count": 4,
   "id": "985b6629",
   "metadata": {},
   "outputs": [
    {
     "ename": "FileNotFoundError",
     "evalue": "[Errno 2] No such file or directory: './images/location.png'",
     "output_type": "error",
     "traceback": [
      "\u001b[0;31m---------------------------------------------------------------------------\u001b[0m",
      "\u001b[0;31mFileNotFoundError\u001b[0m                         Traceback (most recent call last)",
      "\u001b[0;32m/var/folders/m6/x6_xf28d6vv18vkb7w_wnjbw0000gq/T/ipykernel_62949/2779602657.py\u001b[0m in \u001b[0;36m<module>\u001b[0;34m\u001b[0m\n\u001b[1;32m      3\u001b[0m \u001b[0;34m\u001b[0m\u001b[0m\n\u001b[1;32m      4\u001b[0m \u001b[0mplt\u001b[0m\u001b[0;34m.\u001b[0m\u001b[0mtitle\u001b[0m\u001b[0;34m(\u001b[0m\u001b[0;34m\"Top ten locations of tweets\"\u001b[0m\u001b[0;34m)\u001b[0m\u001b[0;34m\u001b[0m\u001b[0;34m\u001b[0m\u001b[0m\n\u001b[0;32m----> 5\u001b[0;31m \u001b[0mplt\u001b[0m\u001b[0;34m.\u001b[0m\u001b[0msavefig\u001b[0m\u001b[0;34m(\u001b[0m\u001b[0;34m'./images/location.png'\u001b[0m\u001b[0;34m)\u001b[0m\u001b[0;34m;\u001b[0m\u001b[0;34m\u001b[0m\u001b[0;34m\u001b[0m\u001b[0m\n\u001b[0m",
      "\u001b[0;32m~/opt/anaconda3/lib/python3.9/site-packages/matplotlib/pyplot.py\u001b[0m in \u001b[0;36msavefig\u001b[0;34m(*args, **kwargs)\u001b[0m\n\u001b[1;32m    977\u001b[0m \u001b[0;32mdef\u001b[0m \u001b[0msavefig\u001b[0m\u001b[0;34m(\u001b[0m\u001b[0;34m*\u001b[0m\u001b[0margs\u001b[0m\u001b[0;34m,\u001b[0m \u001b[0;34m**\u001b[0m\u001b[0mkwargs\u001b[0m\u001b[0;34m)\u001b[0m\u001b[0;34m:\u001b[0m\u001b[0;34m\u001b[0m\u001b[0;34m\u001b[0m\u001b[0m\n\u001b[1;32m    978\u001b[0m     \u001b[0mfig\u001b[0m \u001b[0;34m=\u001b[0m \u001b[0mgcf\u001b[0m\u001b[0;34m(\u001b[0m\u001b[0;34m)\u001b[0m\u001b[0;34m\u001b[0m\u001b[0;34m\u001b[0m\u001b[0m\n\u001b[0;32m--> 979\u001b[0;31m     \u001b[0mres\u001b[0m \u001b[0;34m=\u001b[0m \u001b[0mfig\u001b[0m\u001b[0;34m.\u001b[0m\u001b[0msavefig\u001b[0m\u001b[0;34m(\u001b[0m\u001b[0;34m*\u001b[0m\u001b[0margs\u001b[0m\u001b[0;34m,\u001b[0m \u001b[0;34m**\u001b[0m\u001b[0mkwargs\u001b[0m\u001b[0;34m)\u001b[0m\u001b[0;34m\u001b[0m\u001b[0;34m\u001b[0m\u001b[0m\n\u001b[0m\u001b[1;32m    980\u001b[0m     \u001b[0mfig\u001b[0m\u001b[0;34m.\u001b[0m\u001b[0mcanvas\u001b[0m\u001b[0;34m.\u001b[0m\u001b[0mdraw_idle\u001b[0m\u001b[0;34m(\u001b[0m\u001b[0;34m)\u001b[0m   \u001b[0;31m# need this if 'transparent=True' to reset colors\u001b[0m\u001b[0;34m\u001b[0m\u001b[0;34m\u001b[0m\u001b[0m\n\u001b[1;32m    981\u001b[0m     \u001b[0;32mreturn\u001b[0m \u001b[0mres\u001b[0m\u001b[0;34m\u001b[0m\u001b[0;34m\u001b[0m\u001b[0m\n",
      "\u001b[0;32m~/opt/anaconda3/lib/python3.9/site-packages/matplotlib/figure.py\u001b[0m in \u001b[0;36msavefig\u001b[0;34m(self, fname, transparent, **kwargs)\u001b[0m\n\u001b[1;32m   3044\u001b[0m                         ax.patch._cm_set(facecolor='none', edgecolor='none'))\n\u001b[1;32m   3045\u001b[0m \u001b[0;34m\u001b[0m\u001b[0m\n\u001b[0;32m-> 3046\u001b[0;31m             \u001b[0mself\u001b[0m\u001b[0;34m.\u001b[0m\u001b[0mcanvas\u001b[0m\u001b[0;34m.\u001b[0m\u001b[0mprint_figure\u001b[0m\u001b[0;34m(\u001b[0m\u001b[0mfname\u001b[0m\u001b[0;34m,\u001b[0m \u001b[0;34m**\u001b[0m\u001b[0mkwargs\u001b[0m\u001b[0;34m)\u001b[0m\u001b[0;34m\u001b[0m\u001b[0;34m\u001b[0m\u001b[0m\n\u001b[0m\u001b[1;32m   3047\u001b[0m \u001b[0;34m\u001b[0m\u001b[0m\n\u001b[1;32m   3048\u001b[0m     def ginput(self, n=1, timeout=30, show_clicks=True,\n",
      "\u001b[0;32m~/opt/anaconda3/lib/python3.9/site-packages/matplotlib/backend_bases.py\u001b[0m in \u001b[0;36mprint_figure\u001b[0;34m(self, filename, dpi, facecolor, edgecolor, orientation, format, bbox_inches, pad_inches, bbox_extra_artists, backend, **kwargs)\u001b[0m\n\u001b[1;32m   2317\u001b[0m                 \u001b[0;31m# force the figure dpi to 72), so we need to set it again here.\u001b[0m\u001b[0;34m\u001b[0m\u001b[0;34m\u001b[0m\u001b[0m\n\u001b[1;32m   2318\u001b[0m                 \u001b[0;32mwith\u001b[0m \u001b[0mcbook\u001b[0m\u001b[0;34m.\u001b[0m\u001b[0m_setattr_cm\u001b[0m\u001b[0;34m(\u001b[0m\u001b[0mself\u001b[0m\u001b[0;34m.\u001b[0m\u001b[0mfigure\u001b[0m\u001b[0;34m,\u001b[0m \u001b[0mdpi\u001b[0m\u001b[0;34m=\u001b[0m\u001b[0mdpi\u001b[0m\u001b[0;34m)\u001b[0m\u001b[0;34m:\u001b[0m\u001b[0;34m\u001b[0m\u001b[0;34m\u001b[0m\u001b[0m\n\u001b[0;32m-> 2319\u001b[0;31m                     result = print_method(\n\u001b[0m\u001b[1;32m   2320\u001b[0m                         \u001b[0mfilename\u001b[0m\u001b[0;34m,\u001b[0m\u001b[0;34m\u001b[0m\u001b[0;34m\u001b[0m\u001b[0m\n\u001b[1;32m   2321\u001b[0m                         \u001b[0mfacecolor\u001b[0m\u001b[0;34m=\u001b[0m\u001b[0mfacecolor\u001b[0m\u001b[0;34m,\u001b[0m\u001b[0;34m\u001b[0m\u001b[0;34m\u001b[0m\u001b[0m\n",
      "\u001b[0;32m~/opt/anaconda3/lib/python3.9/site-packages/matplotlib/backend_bases.py\u001b[0m in \u001b[0;36mwrapper\u001b[0;34m(*args, **kwargs)\u001b[0m\n\u001b[1;32m   1646\u001b[0m             \u001b[0mkwargs\u001b[0m\u001b[0;34m.\u001b[0m\u001b[0mpop\u001b[0m\u001b[0;34m(\u001b[0m\u001b[0marg\u001b[0m\u001b[0;34m)\u001b[0m\u001b[0;34m\u001b[0m\u001b[0;34m\u001b[0m\u001b[0m\n\u001b[1;32m   1647\u001b[0m \u001b[0;34m\u001b[0m\u001b[0m\n\u001b[0;32m-> 1648\u001b[0;31m         \u001b[0;32mreturn\u001b[0m \u001b[0mfunc\u001b[0m\u001b[0;34m(\u001b[0m\u001b[0;34m*\u001b[0m\u001b[0margs\u001b[0m\u001b[0;34m,\u001b[0m \u001b[0;34m**\u001b[0m\u001b[0mkwargs\u001b[0m\u001b[0;34m)\u001b[0m\u001b[0;34m\u001b[0m\u001b[0;34m\u001b[0m\u001b[0m\n\u001b[0m\u001b[1;32m   1649\u001b[0m \u001b[0;34m\u001b[0m\u001b[0m\n\u001b[1;32m   1650\u001b[0m     \u001b[0;32mreturn\u001b[0m \u001b[0mwrapper\u001b[0m\u001b[0;34m\u001b[0m\u001b[0;34m\u001b[0m\u001b[0m\n",
      "\u001b[0;32m~/opt/anaconda3/lib/python3.9/site-packages/matplotlib/_api/deprecation.py\u001b[0m in \u001b[0;36mwrapper\u001b[0;34m(*inner_args, **inner_kwargs)\u001b[0m\n\u001b[1;32m    413\u001b[0m                          \u001b[0;32melse\u001b[0m \u001b[0mdeprecation_addendum\u001b[0m\u001b[0;34m,\u001b[0m\u001b[0;34m\u001b[0m\u001b[0;34m\u001b[0m\u001b[0m\n\u001b[1;32m    414\u001b[0m                 **kwargs)\n\u001b[0;32m--> 415\u001b[0;31m         \u001b[0;32mreturn\u001b[0m \u001b[0mfunc\u001b[0m\u001b[0;34m(\u001b[0m\u001b[0;34m*\u001b[0m\u001b[0minner_args\u001b[0m\u001b[0;34m,\u001b[0m \u001b[0;34m**\u001b[0m\u001b[0minner_kwargs\u001b[0m\u001b[0;34m)\u001b[0m\u001b[0;34m\u001b[0m\u001b[0;34m\u001b[0m\u001b[0m\n\u001b[0m\u001b[1;32m    416\u001b[0m \u001b[0;34m\u001b[0m\u001b[0m\n\u001b[1;32m    417\u001b[0m     \u001b[0mDECORATORS\u001b[0m\u001b[0;34m[\u001b[0m\u001b[0mwrapper\u001b[0m\u001b[0;34m]\u001b[0m \u001b[0;34m=\u001b[0m \u001b[0mdecorator\u001b[0m\u001b[0;34m\u001b[0m\u001b[0;34m\u001b[0m\u001b[0m\n",
      "\u001b[0;32m~/opt/anaconda3/lib/python3.9/site-packages/matplotlib/backends/backend_agg.py\u001b[0m in \u001b[0;36mprint_png\u001b[0;34m(self, filename_or_obj, metadata, pil_kwargs, *args)\u001b[0m\n\u001b[1;32m    539\u001b[0m         \"\"\"\n\u001b[1;32m    540\u001b[0m         \u001b[0mFigureCanvasAgg\u001b[0m\u001b[0;34m.\u001b[0m\u001b[0mdraw\u001b[0m\u001b[0;34m(\u001b[0m\u001b[0mself\u001b[0m\u001b[0;34m)\u001b[0m\u001b[0;34m\u001b[0m\u001b[0;34m\u001b[0m\u001b[0m\n\u001b[0;32m--> 541\u001b[0;31m         mpl.image.imsave(\n\u001b[0m\u001b[1;32m    542\u001b[0m             \u001b[0mfilename_or_obj\u001b[0m\u001b[0;34m,\u001b[0m \u001b[0mself\u001b[0m\u001b[0;34m.\u001b[0m\u001b[0mbuffer_rgba\u001b[0m\u001b[0;34m(\u001b[0m\u001b[0;34m)\u001b[0m\u001b[0;34m,\u001b[0m \u001b[0mformat\u001b[0m\u001b[0;34m=\u001b[0m\u001b[0;34m\"png\"\u001b[0m\u001b[0;34m,\u001b[0m \u001b[0morigin\u001b[0m\u001b[0;34m=\u001b[0m\u001b[0;34m\"upper\"\u001b[0m\u001b[0;34m,\u001b[0m\u001b[0;34m\u001b[0m\u001b[0;34m\u001b[0m\u001b[0m\n\u001b[1;32m    543\u001b[0m             dpi=self.figure.dpi, metadata=metadata, pil_kwargs=pil_kwargs)\n",
      "\u001b[0;32m~/opt/anaconda3/lib/python3.9/site-packages/matplotlib/image.py\u001b[0m in \u001b[0;36mimsave\u001b[0;34m(fname, arr, vmin, vmax, cmap, format, origin, dpi, metadata, pil_kwargs)\u001b[0m\n\u001b[1;32m   1673\u001b[0m         \u001b[0mpil_kwargs\u001b[0m\u001b[0;34m.\u001b[0m\u001b[0msetdefault\u001b[0m\u001b[0;34m(\u001b[0m\u001b[0;34m\"format\"\u001b[0m\u001b[0;34m,\u001b[0m \u001b[0mformat\u001b[0m\u001b[0;34m)\u001b[0m\u001b[0;34m\u001b[0m\u001b[0;34m\u001b[0m\u001b[0m\n\u001b[1;32m   1674\u001b[0m         \u001b[0mpil_kwargs\u001b[0m\u001b[0;34m.\u001b[0m\u001b[0msetdefault\u001b[0m\u001b[0;34m(\u001b[0m\u001b[0;34m\"dpi\"\u001b[0m\u001b[0;34m,\u001b[0m \u001b[0;34m(\u001b[0m\u001b[0mdpi\u001b[0m\u001b[0;34m,\u001b[0m \u001b[0mdpi\u001b[0m\u001b[0;34m)\u001b[0m\u001b[0;34m)\u001b[0m\u001b[0;34m\u001b[0m\u001b[0;34m\u001b[0m\u001b[0m\n\u001b[0;32m-> 1675\u001b[0;31m         \u001b[0mimage\u001b[0m\u001b[0;34m.\u001b[0m\u001b[0msave\u001b[0m\u001b[0;34m(\u001b[0m\u001b[0mfname\u001b[0m\u001b[0;34m,\u001b[0m \u001b[0;34m**\u001b[0m\u001b[0mpil_kwargs\u001b[0m\u001b[0;34m)\u001b[0m\u001b[0;34m\u001b[0m\u001b[0;34m\u001b[0m\u001b[0m\n\u001b[0m\u001b[1;32m   1676\u001b[0m \u001b[0;34m\u001b[0m\u001b[0m\n\u001b[1;32m   1677\u001b[0m \u001b[0;34m\u001b[0m\u001b[0m\n",
      "\u001b[0;32m~/opt/anaconda3/lib/python3.9/site-packages/PIL/Image.py\u001b[0m in \u001b[0;36msave\u001b[0;34m(self, fp, format, **params)\u001b[0m\n\u001b[1;32m   2315\u001b[0m                 \u001b[0mfp\u001b[0m \u001b[0;34m=\u001b[0m \u001b[0mbuiltins\u001b[0m\u001b[0;34m.\u001b[0m\u001b[0mopen\u001b[0m\u001b[0;34m(\u001b[0m\u001b[0mfilename\u001b[0m\u001b[0;34m,\u001b[0m \u001b[0;34m\"r+b\"\u001b[0m\u001b[0;34m)\u001b[0m\u001b[0;34m\u001b[0m\u001b[0;34m\u001b[0m\u001b[0m\n\u001b[1;32m   2316\u001b[0m             \u001b[0;32melse\u001b[0m\u001b[0;34m:\u001b[0m\u001b[0;34m\u001b[0m\u001b[0;34m\u001b[0m\u001b[0m\n\u001b[0;32m-> 2317\u001b[0;31m                 \u001b[0mfp\u001b[0m \u001b[0;34m=\u001b[0m \u001b[0mbuiltins\u001b[0m\u001b[0;34m.\u001b[0m\u001b[0mopen\u001b[0m\u001b[0;34m(\u001b[0m\u001b[0mfilename\u001b[0m\u001b[0;34m,\u001b[0m \u001b[0;34m\"w+b\"\u001b[0m\u001b[0;34m)\u001b[0m\u001b[0;34m\u001b[0m\u001b[0;34m\u001b[0m\u001b[0m\n\u001b[0m\u001b[1;32m   2318\u001b[0m \u001b[0;34m\u001b[0m\u001b[0m\n\u001b[1;32m   2319\u001b[0m         \u001b[0;32mtry\u001b[0m\u001b[0;34m:\u001b[0m\u001b[0;34m\u001b[0m\u001b[0;34m\u001b[0m\u001b[0m\n",
      "\u001b[0;31mFileNotFoundError\u001b[0m: [Errno 2] No such file or directory: './images/location.png'"
     ]
    },
    {
     "data": {
      "image/png": "[encoded data removed]",
      "text/plain": [
       "<Figure size 640x480 with 1 Axes>"
      ]
     },
     "metadata": {},
     "output_type": "display_data"
    }
   ],
   "source": [
    "df['location'].value_counts().sort_values(ascending = True).tail(10).plot(kind = 'barh', color = 'black',\n",
    "                                                                          edgecolor = 'black')\n",
    "                                                                         \n",
    "plt.title(\"Top ten locations of tweets\")\n",
    "plt.savefig('./images/location.png');"
   ]
  },
  {
   "cell_type": "code",
   "execution_count": null,
   "id": "ef503553",
   "metadata": {},
   "outputs": [],
   "source": [
    "#Largest word counts in my data\n",
    "df.loc[df['text_word_count'] > 29, ['text', 'text_word_count']]"
   ]
  },
  {
   "cell_type": "code",
   "execution_count": null,
   "id": "6dd3a631",
   "metadata": {},
   "outputs": [],
   "source": [
    "#Smallest word counts in the data\n",
    "df.loc[df['text_word_count'] < 2, ['text', 'text_word_count']]"
   ]
  },
  {
   "cell_type": "code",
   "execution_count": null,
   "id": "d7c7e949",
   "metadata": {},
   "outputs": [],
   "source": [
    "sns.kdeplot(df['text_length'], df['text_word_count'], \n",
    "            n_levels = 10, shade = True,cbar = True, color = 'yellow')\n",
    "plt.xlabel(\"Text Length\")\n",
    "plt.ylabel(\"Text Word Count\")\n",
    "plt.title(\"Joint Distribution of Word Count and Word Length\")\n",
    "plt.savefig('./images/kdeplot.png');"
   ]
  },
  {
   "cell_type": "code",
   "execution_count": null,
   "id": "876a4a2d",
   "metadata": {},
   "outputs": [],
   "source": [
    "sns.pairplot(df[['text_length', 'text_word_count']])"
   ]
  },
  {
   "cell_type": "code",
   "execution_count": null,
   "id": "f1f6637c",
   "metadata": {},
   "outputs": [],
   "source": [
    "sns.set_style('darkgrid')\n",
    "g = sns.JointGrid(df['text_word_count'], df['text_length'])\n",
    "g.plot(sns.scatterplot, sns.histplot, color = 'green')\n",
    "g.set_axis_labels(\"Text Word Count\", \"Text Length\")\n",
    "plt.savefig('./images/jointgrid.png');"
   ]
  },
  {
   "cell_type": "code",
   "execution_count": null,
   "id": "b7577200",
   "metadata": {},
   "outputs": [],
   "source": [
    "df[['text_length', 'text_word_count']].describe()"
   ]
  },
  {
   "cell_type": "code",
   "execution_count": null,
   "id": "7fc46f35",
   "metadata": {},
   "outputs": [],
   "source": [
    "sns.distplot(df['text_word_count'], color = 'black')\n",
    "plt.xlabel(\"Text Word Count\")\n",
    "plt.title(\"Word Count Distribution\")\n",
    "plt.savefig('./images/wordcount.png');"
   ]
  },
  {
   "cell_type": "code",
   "execution_count": null,
   "id": "fc8aa17d",
   "metadata": {},
   "outputs": [],
   "source": [
    "sns.cubehelix_palette(start = 2, rot = 1, light = 10, dark = 10)\n",
    "plt.hist(df['text_length'], color = 'lightblue', bins = 30, edgecolor = 'black')\n",
    "plt.xlabel('Text Length')\n",
    "plt.title(\"Distribution of Text Length\")\n",
    "plt.savefig('./images/distplot1');"
   ]
  },
  {
   "cell_type": "code",
   "execution_count": null,
   "id": "c1a1c801",
   "metadata": {},
   "outputs": [],
   "source": []
  },
  {
   "cell_type": "code",
   "execution_count": null,
   "id": "34cfbff4",
   "metadata": {},
   "outputs": [],
   "source": [
    "plt.boxplot(df['text_length'])\n",
    "plt.boxplot(df['text_word_count']);"
   ]
  },
  {
   "cell_type": "code",
   "execution_count": null,
   "id": "405504a3",
   "metadata": {},
   "outputs": [],
   "source": []
  },
  {
   "cell_type": "code",
   "execution_count": null,
   "id": "c7ba26f3",
   "metadata": {},
   "outputs": [],
   "source": []
  },
  {
   "cell_type": "code",
   "execution_count": null,
   "id": "ca4e6433",
   "metadata": {},
   "outputs": [],
   "source": [
    "lemmatizer = WordNetLemmatizer()\n",
    "corpus = []\n",
    "for i in range(0, len(df)):\n",
    "    review = re.sub(r\"http\\S+\", \"\", df['text'][i]) # This code removes links from text\n",
    "    review = re.sub('[^a-zA-Z\\d+]', ' ', review) \n",
    "    review = re.sub('[0-9]', '', review) \n",
    "    review = review.lower()\n",
    "    review = review.split()\n",
    "    review = [lemmatizer.lemmatize(word, pos = 'v') for word in review if not word in stopwords.words('english')]\n",
    "    review = [lemmatizer.lemmatize(word, pos = 'n') for word in review]\n",
    "    review = [lemmatizer.lemmatize(word, pos = 'a') for word in review] \n",
    "    review = ' '.join(review)\n",
    "    corpus.append(review)"
   ]
  },
  {
   "cell_type": "code",
   "execution_count": null,
   "id": "b88aedb5",
   "metadata": {},
   "outputs": [],
   "source": [
    "## Creating a Dictionary to see most frequent words\n",
    "wordfreq = {}\n",
    "for sentence in corpus:\n",
    "    tokens = nltk.word_tokenize(sentence)\n",
    "    for token in tokens:\n",
    "        if token not in wordfreq.keys():\n",
    "            wordfreq[token] = 1\n",
    "        else:\n",
    "            wordfreq[token] += 1"
   ]
  },
  {
   "cell_type": "code",
   "execution_count": null,
   "id": "4d65c54d",
   "metadata": {},
   "outputs": [],
   "source": [
    "## Using heap module in python to see 10 most frequent words\n",
    "import heapq\n",
    "most_freq = heapq.nlargest(200, wordfreq, key=wordfreq.get)\n",
    "most_freq[0:10]"
   ]
  },
  {
   "cell_type": "code",
   "execution_count": null,
   "id": "bf840f5e",
   "metadata": {},
   "outputs": [],
   "source": [
    "#separating fake and real tweets \n",
    "real = df.loc[df.target == 1, 'text']\n",
    "fake = df.loc[df.target == 1, 'text']"
   ]
  },
  {
   "cell_type": "code",
   "execution_count": null,
   "id": "5430bfd4",
   "metadata": {},
   "outputs": [],
   "source": [
    "cv = CountVectorizer(stop_words = 'english', ngram_range = (1,2))\n",
    "cv.fit(real)"
   ]
  },
  {
   "cell_type": "code",
   "execution_count": null,
   "id": "6e41eb55",
   "metadata": {},
   "outputs": [],
   "source": [
    "cv_fake = CountVectorizer(stop_words = 'english', ngram_range = (1,2))\n",
    "cv_fake.fit(fake)"
   ]
  },
  {
   "cell_type": "code",
   "execution_count": null,
   "id": "881ad7cb",
   "metadata": {},
   "outputs": [],
   "source": [
    "real_cv = cv.transform(real)"
   ]
  },
  {
   "cell_type": "code",
   "execution_count": null,
   "id": "288686dc",
   "metadata": {},
   "outputs": [],
   "source": [
    "fake_cv = cv_fake.transform(fake)"
   ]
  },
  {
   "cell_type": "code",
   "execution_count": null,
   "id": "3b9ad90d",
   "metadata": {},
   "outputs": [],
   "source": [
    "real_df = pd.DataFrame(real_cv.todense(), \n",
    "                          columns=cv.get_feature_names())\n",
    "real_df.head(2)"
   ]
  },
  {
   "cell_type": "code",
   "execution_count": null,
   "id": "985f28ac",
   "metadata": {},
   "outputs": [],
   "source": [
    "fake_df = pd.DataFrame(fake_cv.todense(), \n",
    "                          columns=cv.get_feature_names())\n",
    "fake_df.head(2)"
   ]
  },
  {
   "cell_type": "code",
   "execution_count": null,
   "id": "e4d6e270",
   "metadata": {},
   "outputs": [],
   "source": [
    "real_df.to_csv('./data/real.csv', index_label = None)\n",
    "fake_df.to_csv('./data/fake.csv', index_label = None)"
   ]
  },
  {
   "cell_type": "code",
   "execution_count": null,
   "id": "e7f5dfae",
   "metadata": {},
   "outputs": [],
   "source": [
    "# Plot top occuring words in real tweets\n",
    "real_df.sum().sort_values(ascending = True).tail(10).plot(kind = 'barh', color = 'lightblue',\n",
    "                                                          edgecolor = 'black')\n",
    "plt.title(\"Frequent Words in real tweets with ngram range of (1,2)\")\n",
    "\n",
    "plt.savefig('./images/real.png');"
   ]
  },
  {
   "cell_type": "code",
   "execution_count": null,
   "id": "0f870a70",
   "metadata": {},
   "outputs": [],
   "source": [
    "# Plot top occuring words in fake tweets\n",
    "fake_df.sum().sort_values(ascending = True).tail(10).plot(kind = 'barh',color = 'orange',\n",
    "                                                          edgecolor = 'black')\n",
    "plt.title(\"Frequent Words in fake tweets with ngram range of (1,2)\")\n",
    "plt.savefig('./images/fake.png');"
   ]
  },
  {
   "cell_type": "code",
   "execution_count": null,
   "id": "dba8b7de",
   "metadata": {},
   "outputs": [],
   "source": [
    "cv = CountVectorizer(stop_words = 'english', ngram_range = (2,3))\n",
    "cv.fit(real)"
   ]
  },
  {
   "cell_type": "code",
   "execution_count": null,
   "id": "6a19138b",
   "metadata": {},
   "outputs": [],
   "source": [
    "real_cv = cv.transform(real)"
   ]
  },
  {
   "cell_type": "code",
   "execution_count": null,
   "id": "eb5b5379",
   "metadata": {},
   "outputs": [],
   "source": [
    "fake_cv = cv.transform(fake)"
   ]
  },
  {
   "cell_type": "code",
   "execution_count": null,
   "id": "252b66bf",
   "metadata": {},
   "outputs": [],
   "source": [
    "real_df = pd.DataFrame(real_cv.todense(), \n",
    "                          columns=cv.get_feature_names())\n",
    "real_df.head(2)"
   ]
  },
  {
   "cell_type": "code",
   "execution_count": null,
   "id": "09321125",
   "metadata": {},
   "outputs": [],
   "source": [
    "fake_df = pd.DataFrame(fake_cv.todense(), \n",
    "                          columns=cv.get_feature_names())\n",
    "fake_df.head(2)"
   ]
  },
  {
   "cell_type": "code",
   "execution_count": null,
   "id": "31534579",
   "metadata": {},
   "outputs": [],
   "source": [
    "# Plot top occuring words in real tweets\n",
    "real_df.sum().sort_values(ascending = True).tail(10).plot(kind = 'barh', color = 'black')\n",
    "plt.title(\"Frequent Words in real tweets with ngram range of (1,1)\")\n",
    "plt.savefig('./images/real1.png');"
   ]
  },
  {
   "cell_type": "code",
   "execution_count": null,
   "id": "681ef6eb",
   "metadata": {},
   "outputs": [],
   "source": [
    "# Plot top occuring words in fake tweets\n",
    "fake_df.sum().sort_values(ascending = True).tail(10).plot(kind = 'barh', color = 'orange',\n",
    "                                                          edgecolor = 'black')\n",
    "plt.title(\"Frequent Words in fake tweets with ngram range of (2,3)\")\n",
    "plt.savefig('./images/fake1.png');"
   ]
  },
  {
   "cell_type": "code",
   "execution_count": null,
   "id": "c7e53f1c",
   "metadata": {},
   "outputs": [],
   "source": [
    "#Looking at the keyword column when target ==1\n",
    "df_realkey = df.loc[df.target == 1  ,['keyword', 'target']].dropna(axis =0, how = 'any')"
   ]
  },
  {
   "cell_type": "code",
   "execution_count": null,
   "id": "9c1ec2fe",
   "metadata": {},
   "outputs": [],
   "source": [
    "df_realkey.tail()"
   ]
  },
  {
   "cell_type": "code",
   "execution_count": null,
   "id": "a84aad7c",
   "metadata": {},
   "outputs": [],
   "source": [
    "#Looking at the keyword column when target == 0\n",
    "df_fakekey = df.loc[df.target == 0  ,['keyword', 'target']].dropna(axis =0, how = 'any')"
   ]
  },
  {
   "cell_type": "code",
   "execution_count": null,
   "id": "30c91ce0",
   "metadata": {},
   "outputs": [],
   "source": [
    "df_fakekey.tail()"
   ]
  },
  {
   "cell_type": "markdown",
   "id": "7728c2e3",
   "metadata": {},
   "source": [
    "#### It appears that the keywords are similar in real and fake tweets"
   ]
  },
  {
   "cell_type": "code",
   "execution_count": null,
   "id": "efc1af35",
   "metadata": {},
   "outputs": [],
   "source": []
  }
 ],
 "metadata": {
  "kernelspec": {
   "display_name": "Python 3 (ipykernel)",
   "language": "python",
   "name": "python3"
  },
  "language_info": {
   "codemirror_mode": {
    "name": "ipython",
    "version": 3
   },
   "file_extension": ".py",
   "mimetype": "text/x-python",
   "name": "python",
   "nbconvert_exporter": "python",
   "pygments_lexer": "ipython3",
   "version": "3.9.13"
  }
 },
 "nbformat": 4,
 "nbformat_minor": 5
}
